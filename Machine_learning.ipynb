{
  "nbformat": 4,
  "nbformat_minor": 0,
  "metadata": {
    "colab": {
      "name": "Machine learning.ipynb",
      "provenance": []
    },
    "kernelspec": {
      "name": "python3",
      "display_name": "Python 3"
    }
  },
  "cells": [
    {
      "cell_type": "code",
      "metadata": {
        "id": "hCR5z0hAkciU",
        "colab_type": "code",
        "colab": {
          "base_uri": "https://localhost:8080/",
          "height": 142
        },
        "outputId": "f34722f8-70bb-4a3e-9860-40aa5df572bc"
      },
      "source": [
        "#ML using SEMMA\n",
        "import pandas as pd\n",
        "data = pd.read_csv(\"https://trello-attachments.s3.amazonaws.com/5cf2142046ceb163a0e4b189/5cf4e21e143159856a320b36/5311d0b467c098f8f83a90a6da607751/Housing_Modified_prepared(1).csv\")\n",
        "data.head(3)"
      ],
      "execution_count": null,
      "outputs": [
        {
          "output_type": "execute_result",
          "data": {
            "text/html": [
              "<div>\n",
              "<style scoped>\n",
              "    .dataframe tbody tr th:only-of-type {\n",
              "        vertical-align: middle;\n",
              "    }\n",
              "\n",
              "    .dataframe tbody tr th {\n",
              "        vertical-align: top;\n",
              "    }\n",
              "\n",
              "    .dataframe thead th {\n",
              "        text-align: right;\n",
              "    }\n",
              "</style>\n",
              "<table border=\"1\" class=\"dataframe\">\n",
              "  <thead>\n",
              "    <tr style=\"text-align: right;\">\n",
              "      <th></th>\n",
              "      <th>price</th>\n",
              "      <th>lotsize</th>\n",
              "      <th>bedrooms</th>\n",
              "      <th>bathrms</th>\n",
              "      <th>stories</th>\n",
              "      <th>driveway</th>\n",
              "      <th>recroom</th>\n",
              "      <th>fullbase</th>\n",
              "      <th>gashw</th>\n",
              "      <th>airco</th>\n",
              "      <th>garagepl</th>\n",
              "      <th>prefarea</th>\n",
              "    </tr>\n",
              "  </thead>\n",
              "  <tbody>\n",
              "    <tr>\n",
              "      <th>0</th>\n",
              "      <td>42000.0</td>\n",
              "      <td>5850</td>\n",
              "      <td>3</td>\n",
              "      <td>1</td>\n",
              "      <td>2</td>\n",
              "      <td>1</td>\n",
              "      <td>0</td>\n",
              "      <td>1</td>\n",
              "      <td>0</td>\n",
              "      <td>0</td>\n",
              "      <td>1</td>\n",
              "      <td>0</td>\n",
              "    </tr>\n",
              "    <tr>\n",
              "      <th>1</th>\n",
              "      <td>38500.0</td>\n",
              "      <td>4000</td>\n",
              "      <td>2</td>\n",
              "      <td>1</td>\n",
              "      <td>1</td>\n",
              "      <td>1</td>\n",
              "      <td>0</td>\n",
              "      <td>0</td>\n",
              "      <td>0</td>\n",
              "      <td>0</td>\n",
              "      <td>0</td>\n",
              "      <td>0</td>\n",
              "    </tr>\n",
              "    <tr>\n",
              "      <th>2</th>\n",
              "      <td>49500.0</td>\n",
              "      <td>3060</td>\n",
              "      <td>3</td>\n",
              "      <td>1</td>\n",
              "      <td>1</td>\n",
              "      <td>1</td>\n",
              "      <td>0</td>\n",
              "      <td>0</td>\n",
              "      <td>0</td>\n",
              "      <td>0</td>\n",
              "      <td>0</td>\n",
              "      <td>0</td>\n",
              "    </tr>\n",
              "  </tbody>\n",
              "</table>\n",
              "</div>"
            ],
            "text/plain": [
              "     price  lotsize  bedrooms  bathrms  ...  gashw  airco  garagepl  prefarea\n",
              "0  42000.0     5850         3        1  ...      0      0         1         0\n",
              "1  38500.0     4000         2        1  ...      0      0         0         0\n",
              "2  49500.0     3060         3        1  ...      0      0         0         0\n",
              "\n",
              "[3 rows x 12 columns]"
            ]
          },
          "metadata": {
            "tags": []
          },
          "execution_count": 2
        }
      ]
    },
    {
      "cell_type": "code",
      "metadata": {
        "id": "Xn2wRbU-lU60",
        "colab_type": "code",
        "colab": {
          "base_uri": "https://localhost:8080/",
          "height": 421
        },
        "outputId": "d467fe37-ec21-4b7b-fbe2-d3366a819725"
      },
      "source": [
        "data.corr()"
      ],
      "execution_count": null,
      "outputs": [
        {
          "output_type": "execute_result",
          "data": {
            "text/html": [
              "<div>\n",
              "<style scoped>\n",
              "    .dataframe tbody tr th:only-of-type {\n",
              "        vertical-align: middle;\n",
              "    }\n",
              "\n",
              "    .dataframe tbody tr th {\n",
              "        vertical-align: top;\n",
              "    }\n",
              "\n",
              "    .dataframe thead th {\n",
              "        text-align: right;\n",
              "    }\n",
              "</style>\n",
              "<table border=\"1\" class=\"dataframe\">\n",
              "  <thead>\n",
              "    <tr style=\"text-align: right;\">\n",
              "      <th></th>\n",
              "      <th>price</th>\n",
              "      <th>lotsize</th>\n",
              "      <th>bedrooms</th>\n",
              "      <th>bathrms</th>\n",
              "      <th>stories</th>\n",
              "      <th>driveway</th>\n",
              "      <th>recroom</th>\n",
              "      <th>fullbase</th>\n",
              "      <th>gashw</th>\n",
              "      <th>airco</th>\n",
              "      <th>garagepl</th>\n",
              "      <th>prefarea</th>\n",
              "    </tr>\n",
              "  </thead>\n",
              "  <tbody>\n",
              "    <tr>\n",
              "      <th>price</th>\n",
              "      <td>1.000000</td>\n",
              "      <td>0.535796</td>\n",
              "      <td>0.366447</td>\n",
              "      <td>0.516719</td>\n",
              "      <td>0.421190</td>\n",
              "      <td>0.297167</td>\n",
              "      <td>0.254960</td>\n",
              "      <td>0.186218</td>\n",
              "      <td>0.092837</td>\n",
              "      <td>0.453347</td>\n",
              "      <td>0.383302</td>\n",
              "      <td>0.329074</td>\n",
              "    </tr>\n",
              "    <tr>\n",
              "      <th>lotsize</th>\n",
              "      <td>0.535796</td>\n",
              "      <td>1.000000</td>\n",
              "      <td>0.151851</td>\n",
              "      <td>0.193833</td>\n",
              "      <td>0.083675</td>\n",
              "      <td>0.288778</td>\n",
              "      <td>0.140327</td>\n",
              "      <td>0.047487</td>\n",
              "      <td>-0.009201</td>\n",
              "      <td>0.221765</td>\n",
              "      <td>0.352872</td>\n",
              "      <td>0.234782</td>\n",
              "    </tr>\n",
              "    <tr>\n",
              "      <th>bedrooms</th>\n",
              "      <td>0.366447</td>\n",
              "      <td>0.151851</td>\n",
              "      <td>1.000000</td>\n",
              "      <td>0.373769</td>\n",
              "      <td>0.407974</td>\n",
              "      <td>-0.011996</td>\n",
              "      <td>0.080492</td>\n",
              "      <td>0.097201</td>\n",
              "      <td>0.046028</td>\n",
              "      <td>0.160412</td>\n",
              "      <td>0.139117</td>\n",
              "      <td>0.078953</td>\n",
              "    </tr>\n",
              "    <tr>\n",
              "      <th>bathrms</th>\n",
              "      <td>0.516719</td>\n",
              "      <td>0.193833</td>\n",
              "      <td>0.373769</td>\n",
              "      <td>1.000000</td>\n",
              "      <td>0.324066</td>\n",
              "      <td>0.041955</td>\n",
              "      <td>0.126892</td>\n",
              "      <td>0.102791</td>\n",
              "      <td>0.067365</td>\n",
              "      <td>0.184955</td>\n",
              "      <td>0.178178</td>\n",
              "      <td>0.064013</td>\n",
              "    </tr>\n",
              "    <tr>\n",
              "      <th>stories</th>\n",
              "      <td>0.421190</td>\n",
              "      <td>0.083675</td>\n",
              "      <td>0.407974</td>\n",
              "      <td>0.324066</td>\n",
              "      <td>1.000000</td>\n",
              "      <td>0.122499</td>\n",
              "      <td>0.042281</td>\n",
              "      <td>-0.173860</td>\n",
              "      <td>0.018261</td>\n",
              "      <td>0.296216</td>\n",
              "      <td>0.043412</td>\n",
              "      <td>0.042940</td>\n",
              "    </tr>\n",
              "    <tr>\n",
              "      <th>driveway</th>\n",
              "      <td>0.297167</td>\n",
              "      <td>0.288778</td>\n",
              "      <td>-0.011996</td>\n",
              "      <td>0.041955</td>\n",
              "      <td>0.122499</td>\n",
              "      <td>1.000000</td>\n",
              "      <td>0.091959</td>\n",
              "      <td>0.043428</td>\n",
              "      <td>-0.011942</td>\n",
              "      <td>0.106290</td>\n",
              "      <td>0.203682</td>\n",
              "      <td>0.199378</td>\n",
              "    </tr>\n",
              "    <tr>\n",
              "      <th>recroom</th>\n",
              "      <td>0.254960</td>\n",
              "      <td>0.140327</td>\n",
              "      <td>0.080492</td>\n",
              "      <td>0.126892</td>\n",
              "      <td>0.042281</td>\n",
              "      <td>0.091959</td>\n",
              "      <td>1.000000</td>\n",
              "      <td>0.372434</td>\n",
              "      <td>-0.010119</td>\n",
              "      <td>0.136626</td>\n",
              "      <td>0.038122</td>\n",
              "      <td>0.161292</td>\n",
              "    </tr>\n",
              "    <tr>\n",
              "      <th>fullbase</th>\n",
              "      <td>0.186218</td>\n",
              "      <td>0.047487</td>\n",
              "      <td>0.097201</td>\n",
              "      <td>0.102791</td>\n",
              "      <td>-0.173860</td>\n",
              "      <td>0.043428</td>\n",
              "      <td>0.372434</td>\n",
              "      <td>1.000000</td>\n",
              "      <td>0.004677</td>\n",
              "      <td>0.045248</td>\n",
              "      <td>0.052524</td>\n",
              "      <td>0.228651</td>\n",
              "    </tr>\n",
              "    <tr>\n",
              "      <th>gashw</th>\n",
              "      <td>0.092837</td>\n",
              "      <td>-0.009201</td>\n",
              "      <td>0.046028</td>\n",
              "      <td>0.067365</td>\n",
              "      <td>0.018261</td>\n",
              "      <td>-0.011942</td>\n",
              "      <td>-0.010119</td>\n",
              "      <td>0.004677</td>\n",
              "      <td>1.000000</td>\n",
              "      <td>-0.130350</td>\n",
              "      <td>0.068144</td>\n",
              "      <td>-0.059170</td>\n",
              "    </tr>\n",
              "    <tr>\n",
              "      <th>airco</th>\n",
              "      <td>0.453347</td>\n",
              "      <td>0.221765</td>\n",
              "      <td>0.160412</td>\n",
              "      <td>0.184955</td>\n",
              "      <td>0.296216</td>\n",
              "      <td>0.106290</td>\n",
              "      <td>0.136626</td>\n",
              "      <td>0.045248</td>\n",
              "      <td>-0.130350</td>\n",
              "      <td>1.000000</td>\n",
              "      <td>0.156596</td>\n",
              "      <td>0.115626</td>\n",
              "    </tr>\n",
              "    <tr>\n",
              "      <th>garagepl</th>\n",
              "      <td>0.383302</td>\n",
              "      <td>0.352872</td>\n",
              "      <td>0.139117</td>\n",
              "      <td>0.178178</td>\n",
              "      <td>0.043412</td>\n",
              "      <td>0.203682</td>\n",
              "      <td>0.038122</td>\n",
              "      <td>0.052524</td>\n",
              "      <td>0.068144</td>\n",
              "      <td>0.156596</td>\n",
              "      <td>1.000000</td>\n",
              "      <td>0.092364</td>\n",
              "    </tr>\n",
              "    <tr>\n",
              "      <th>prefarea</th>\n",
              "      <td>0.329074</td>\n",
              "      <td>0.234782</td>\n",
              "      <td>0.078953</td>\n",
              "      <td>0.064013</td>\n",
              "      <td>0.042940</td>\n",
              "      <td>0.199378</td>\n",
              "      <td>0.161292</td>\n",
              "      <td>0.228651</td>\n",
              "      <td>-0.059170</td>\n",
              "      <td>0.115626</td>\n",
              "      <td>0.092364</td>\n",
              "      <td>1.000000</td>\n",
              "    </tr>\n",
              "  </tbody>\n",
              "</table>\n",
              "</div>"
            ],
            "text/plain": [
              "             price   lotsize  bedrooms  ...     airco  garagepl  prefarea\n",
              "price     1.000000  0.535796  0.366447  ...  0.453347  0.383302  0.329074\n",
              "lotsize   0.535796  1.000000  0.151851  ...  0.221765  0.352872  0.234782\n",
              "bedrooms  0.366447  0.151851  1.000000  ...  0.160412  0.139117  0.078953\n",
              "bathrms   0.516719  0.193833  0.373769  ...  0.184955  0.178178  0.064013\n",
              "stories   0.421190  0.083675  0.407974  ...  0.296216  0.043412  0.042940\n",
              "driveway  0.297167  0.288778 -0.011996  ...  0.106290  0.203682  0.199378\n",
              "recroom   0.254960  0.140327  0.080492  ...  0.136626  0.038122  0.161292\n",
              "fullbase  0.186218  0.047487  0.097201  ...  0.045248  0.052524  0.228651\n",
              "gashw     0.092837 -0.009201  0.046028  ... -0.130350  0.068144 -0.059170\n",
              "airco     0.453347  0.221765  0.160412  ...  1.000000  0.156596  0.115626\n",
              "garagepl  0.383302  0.352872  0.139117  ...  0.156596  1.000000  0.092364\n",
              "prefarea  0.329074  0.234782  0.078953  ...  0.115626  0.092364  1.000000\n",
              "\n",
              "[12 rows x 12 columns]"
            ]
          },
          "metadata": {
            "tags": []
          },
          "execution_count": 3
        }
      ]
    },
    {
      "cell_type": "code",
      "metadata": {
        "id": "wfS2fnVcmhxP",
        "colab_type": "code",
        "colab": {
          "base_uri": "https://localhost:8080/",
          "height": 34
        },
        "outputId": "78323e24-ba73-4dda-bae2-88e7cf9ba0b9"
      },
      "source": [
        "data.shape\n",
        "print(\"data has %d rows and %d columns\" %data.shape)"
      ],
      "execution_count": null,
      "outputs": [
        {
          "output_type": "stream",
          "text": [
            "data has 546 rows and 12 columns\n"
          ],
          "name": "stdout"
        }
      ]
    },
    {
      "cell_type": "code",
      "metadata": {
        "id": "YzWJ-IvwqJRh",
        "colab_type": "code",
        "colab": {
          "base_uri": "https://localhost:8080/",
          "height": 419
        },
        "outputId": "90ab482f-d869-4356-8aaf-3f78f76cd84a"
      },
      "source": [
        "data[[\"price\",\"lotsize\",\"bedrooms\",\"bathrms\"]]"
      ],
      "execution_count": null,
      "outputs": [
        {
          "output_type": "execute_result",
          "data": {
            "text/html": [
              "<div>\n",
              "<style scoped>\n",
              "    .dataframe tbody tr th:only-of-type {\n",
              "        vertical-align: middle;\n",
              "    }\n",
              "\n",
              "    .dataframe tbody tr th {\n",
              "        vertical-align: top;\n",
              "    }\n",
              "\n",
              "    .dataframe thead th {\n",
              "        text-align: right;\n",
              "    }\n",
              "</style>\n",
              "<table border=\"1\" class=\"dataframe\">\n",
              "  <thead>\n",
              "    <tr style=\"text-align: right;\">\n",
              "      <th></th>\n",
              "      <th>price</th>\n",
              "      <th>lotsize</th>\n",
              "      <th>bedrooms</th>\n",
              "      <th>bathrms</th>\n",
              "    </tr>\n",
              "  </thead>\n",
              "  <tbody>\n",
              "    <tr>\n",
              "      <th>0</th>\n",
              "      <td>42000.0</td>\n",
              "      <td>5850</td>\n",
              "      <td>3</td>\n",
              "      <td>1</td>\n",
              "    </tr>\n",
              "    <tr>\n",
              "      <th>1</th>\n",
              "      <td>38500.0</td>\n",
              "      <td>4000</td>\n",
              "      <td>2</td>\n",
              "      <td>1</td>\n",
              "    </tr>\n",
              "    <tr>\n",
              "      <th>2</th>\n",
              "      <td>49500.0</td>\n",
              "      <td>3060</td>\n",
              "      <td>3</td>\n",
              "      <td>1</td>\n",
              "    </tr>\n",
              "    <tr>\n",
              "      <th>3</th>\n",
              "      <td>60500.0</td>\n",
              "      <td>6650</td>\n",
              "      <td>3</td>\n",
              "      <td>1</td>\n",
              "    </tr>\n",
              "    <tr>\n",
              "      <th>4</th>\n",
              "      <td>61000.0</td>\n",
              "      <td>6360</td>\n",
              "      <td>2</td>\n",
              "      <td>1</td>\n",
              "    </tr>\n",
              "    <tr>\n",
              "      <th>...</th>\n",
              "      <td>...</td>\n",
              "      <td>...</td>\n",
              "      <td>...</td>\n",
              "      <td>...</td>\n",
              "    </tr>\n",
              "    <tr>\n",
              "      <th>541</th>\n",
              "      <td>91500.0</td>\n",
              "      <td>4800</td>\n",
              "      <td>3</td>\n",
              "      <td>2</td>\n",
              "    </tr>\n",
              "    <tr>\n",
              "      <th>542</th>\n",
              "      <td>94000.0</td>\n",
              "      <td>6000</td>\n",
              "      <td>3</td>\n",
              "      <td>2</td>\n",
              "    </tr>\n",
              "    <tr>\n",
              "      <th>543</th>\n",
              "      <td>103000.0</td>\n",
              "      <td>6000</td>\n",
              "      <td>3</td>\n",
              "      <td>2</td>\n",
              "    </tr>\n",
              "    <tr>\n",
              "      <th>544</th>\n",
              "      <td>105000.0</td>\n",
              "      <td>6000</td>\n",
              "      <td>3</td>\n",
              "      <td>2</td>\n",
              "    </tr>\n",
              "    <tr>\n",
              "      <th>545</th>\n",
              "      <td>105000.0</td>\n",
              "      <td>6000</td>\n",
              "      <td>3</td>\n",
              "      <td>1</td>\n",
              "    </tr>\n",
              "  </tbody>\n",
              "</table>\n",
              "<p>546 rows × 4 columns</p>\n",
              "</div>"
            ],
            "text/plain": [
              "        price  lotsize  bedrooms  bathrms\n",
              "0     42000.0     5850         3        1\n",
              "1     38500.0     4000         2        1\n",
              "2     49500.0     3060         3        1\n",
              "3     60500.0     6650         3        1\n",
              "4     61000.0     6360         2        1\n",
              "..        ...      ...       ...      ...\n",
              "541   91500.0     4800         3        2\n",
              "542   94000.0     6000         3        2\n",
              "543  103000.0     6000         3        2\n",
              "544  105000.0     6000         3        2\n",
              "545  105000.0     6000         3        1\n",
              "\n",
              "[546 rows x 4 columns]"
            ]
          },
          "metadata": {
            "tags": []
          },
          "execution_count": 5
        }
      ]
    },
    {
      "cell_type": "code",
      "metadata": {
        "id": "M15hjQXOq494",
        "colab_type": "code",
        "colab": {
          "base_uri": "https://localhost:8080/",
          "height": 34
        },
        "outputId": "429db708-8e0c-4e73-e87f-ca1073dd202e"
      },
      "source": [
        "data[\"price\"].max()"
      ],
      "execution_count": null,
      "outputs": [
        {
          "output_type": "execute_result",
          "data": {
            "text/plain": [
              "190000.0"
            ]
          },
          "metadata": {
            "tags": []
          },
          "execution_count": 6
        }
      ]
    },
    {
      "cell_type": "code",
      "metadata": {
        "id": "sbUKb6Mtt1bl",
        "colab_type": "code",
        "colab": {
          "base_uri": "https://localhost:8080/",
          "height": 51
        },
        "outputId": "c4ad8d9e-921f-40c5-f103-2cb72d757019"
      },
      "source": [
        "print(\"max price of house : \", data[\"price\"].max())\n",
        "print(\"min price of house : \", data[\"price\"].min())"
      ],
      "execution_count": null,
      "outputs": [
        {
          "output_type": "stream",
          "text": [
            "max price of house :  190000.0\n",
            "min price of house :  25000.0\n"
          ],
          "name": "stdout"
        }
      ]
    },
    {
      "cell_type": "code",
      "metadata": {
        "id": "TXUHqNOvAr72",
        "colab_type": "code",
        "colab": {
          "base_uri": "https://localhost:8080/",
          "height": 34
        },
        "outputId": "3f9b8cdc-0598-45ea-a266-87b451d3ca12"
      },
      "source": [
        "data[\"bedrooms\"].unique()"
      ],
      "execution_count": null,
      "outputs": [
        {
          "output_type": "execute_result",
          "data": {
            "text/plain": [
              "array([3, 2, 4, 1, 5, 6])"
            ]
          },
          "metadata": {
            "tags": []
          },
          "execution_count": 8
        }
      ]
    },
    {
      "cell_type": "code",
      "metadata": {
        "id": "awHwd_xgBt-F",
        "colab_type": "code",
        "colab": {
          "base_uri": "https://localhost:8080/",
          "height": 34
        },
        "outputId": "09e66cff-6665-48ea-9755-91777c0ff7c8"
      },
      "source": [
        "data[\"bathrms\"].unique()"
      ],
      "execution_count": null,
      "outputs": [
        {
          "output_type": "execute_result",
          "data": {
            "text/plain": [
              "array([1, 2, 3, 4])"
            ]
          },
          "metadata": {
            "tags": []
          },
          "execution_count": 9
        }
      ]
    },
    {
      "cell_type": "code",
      "metadata": {
        "id": "9qjhdLnbB1HK",
        "colab_type": "code",
        "colab": {}
      },
      "source": [
        "import matplotlib.pyplot as plt"
      ],
      "execution_count": null,
      "outputs": []
    },
    {
      "cell_type": "code",
      "metadata": {
        "id": "WqEn8mQTHl_s",
        "colab_type": "code",
        "colab": {
          "base_uri": "https://localhost:8080/",
          "height": 282
        },
        "outputId": "fdf69e93-224c-4d2e-bd2d-9c501d7d666e"
      },
      "source": [
        "plt.plot(data[\"lotsize\"], data[\"price\"])"
      ],
      "execution_count": null,
      "outputs": [
        {
          "output_type": "execute_result",
          "data": {
            "text/plain": [
              "[<matplotlib.lines.Line2D at 0x7fd4b88610f0>]"
            ]
          },
          "metadata": {
            "tags": []
          },
          "execution_count": 11
        },
        {
          "output_type": "display_data",
          "data": {
            "image/png": "[encoded data removed]",
            "text/plain": [
              "<Figure size 432x288 with 1 Axes>"
            ]
          },
          "metadata": {
            "tags": [],
            "needs_background": "light"
          }
        }
      ]
    },
    {
      "cell_type": "code",
      "metadata": {
        "id": "JS5r9Yf0HxE7",
        "colab_type": "code",
        "colab": {
          "base_uri": "https://localhost:8080/",
          "height": 282
        },
        "outputId": "7048c57d-45dd-4a9a-cb22-4eb545a46da7"
      },
      "source": [
        "data.plot()"
      ],
      "execution_count": null,
      "outputs": [
        {
          "output_type": "execute_result",
          "data": {
            "text/plain": [
              "<matplotlib.axes._subplots.AxesSubplot at 0x7fd4b833feb8>"
            ]
          },
          "metadata": {
            "tags": []
          },
          "execution_count": 12
        },
        {
          "output_type": "display_data",
          "data": {
            "image/png": "[encoded data removed]",
            "text/plain": [
              "<Figure size 432x288 with 1 Axes>"
            ]
          },
          "metadata": {
            "tags": [],
            "needs_background": "light"
          }
        }
      ]
    },
    {
      "cell_type": "code",
      "metadata": {
        "id": "k5cUX_d1kThS",
        "colab_type": "code",
        "colab": {
          "base_uri": "https://localhost:8080/",
          "height": 282
        },
        "outputId": "8b3f14cb-7a2f-4918-e95a-eebc277ab827"
      },
      "source": [
        "plt.scatter(data[\"bedrooms\"],data[\"price\"], color = \"red\")"
      ],
      "execution_count": null,
      "outputs": [
        {
          "output_type": "execute_result",
          "data": {
            "text/plain": [
              "<matplotlib.collections.PathCollection at 0x7fd4b82582b0>"
            ]
          },
          "metadata": {
            "tags": []
          },
          "execution_count": 13
        },
        {
          "output_type": "display_data",
          "data": {
            "image/png": "[encoded data removed]",
            "text/plain": [
              "<Figure size 432x288 with 1 Axes>"
            ]
          },
          "metadata": {
            "tags": [],
            "needs_background": "light"
          }
        }
      ]
    },
    {
      "cell_type": "code",
      "metadata": {
        "id": "i2WGuztxlFH-",
        "colab_type": "code",
        "colab": {}
      },
      "source": [
        "import sklearn.preprocessing as pp"
      ],
      "execution_count": null,
      "outputs": []
    },
    {
      "cell_type": "code",
      "metadata": {
        "id": "Eooolqav0SKW",
        "colab_type": "code",
        "colab": {}
      },
      "source": [
        "data = pd.read_csv(\"https://trello-attachments.s3.amazonaws.com/5cf2142046ceb163a0e4b189/5cf4e21e143159856a320b36/5311d0b467c098f8f83a90a6da607751/Housing_Modified_prepared(1).csv\")"
      ],
      "execution_count": null,
      "outputs": []
    },
    {
      "cell_type": "code",
      "metadata": {
        "id": "84ka5ppa4Q7l",
        "colab_type": "code",
        "colab": {
          "base_uri": "https://localhost:8080/",
          "height": 421
        },
        "outputId": "13c2af94-a20a-4844-c2a1-693990505ad5"
      },
      "source": [
        "data.corr()"
      ],
      "execution_count": null,
      "outputs": [
        {
          "output_type": "execute_result",
          "data": {
            "text/html": [
              "<div>\n",
              "<style scoped>\n",
              "    .dataframe tbody tr th:only-of-type {\n",
              "        vertical-align: middle;\n",
              "    }\n",
              "\n",
              "    .dataframe tbody tr th {\n",
              "        vertical-align: top;\n",
              "    }\n",
              "\n",
              "    .dataframe thead th {\n",
              "        text-align: right;\n",
              "    }\n",
              "</style>\n",
              "<table border=\"1\" class=\"dataframe\">\n",
              "  <thead>\n",
              "    <tr style=\"text-align: right;\">\n",
              "      <th></th>\n",
              "      <th>price</th>\n",
              "      <th>lotsize</th>\n",
              "      <th>bedrooms</th>\n",
              "      <th>bathrms</th>\n",
              "      <th>stories</th>\n",
              "      <th>driveway</th>\n",
              "      <th>recroom</th>\n",
              "      <th>fullbase</th>\n",
              "      <th>gashw</th>\n",
              "      <th>airco</th>\n",
              "      <th>garagepl</th>\n",
              "      <th>prefarea</th>\n",
              "    </tr>\n",
              "  </thead>\n",
              "  <tbody>\n",
              "    <tr>\n",
              "      <th>price</th>\n",
              "      <td>1.000000</td>\n",
              "      <td>0.535796</td>\n",
              "      <td>0.366447</td>\n",
              "      <td>0.516719</td>\n",
              "      <td>0.421190</td>\n",
              "      <td>0.297167</td>\n",
              "      <td>0.254960</td>\n",
              "      <td>0.186218</td>\n",
              "      <td>0.092837</td>\n",
              "      <td>0.453347</td>\n",
              "      <td>0.383302</td>\n",
              "      <td>0.329074</td>\n",
              "    </tr>\n",
              "    <tr>\n",
              "      <th>lotsize</th>\n",
              "      <td>0.535796</td>\n",
              "      <td>1.000000</td>\n",
              "      <td>0.151851</td>\n",
              "      <td>0.193833</td>\n",
              "      <td>0.083675</td>\n",
              "      <td>0.288778</td>\n",
              "      <td>0.140327</td>\n",
              "      <td>0.047487</td>\n",
              "      <td>-0.009201</td>\n",
              "      <td>0.221765</td>\n",
              "      <td>0.352872</td>\n",
              "      <td>0.234782</td>\n",
              "    </tr>\n",
              "    <tr>\n",
              "      <th>bedrooms</th>\n",
              "      <td>0.366447</td>\n",
              "      <td>0.151851</td>\n",
              "      <td>1.000000</td>\n",
              "      <td>0.373769</td>\n",
              "      <td>0.407974</td>\n",
              "      <td>-0.011996</td>\n",
              "      <td>0.080492</td>\n",
              "      <td>0.097201</td>\n",
              "      <td>0.046028</td>\n",
              "      <td>0.160412</td>\n",
              "      <td>0.139117</td>\n",
              "      <td>0.078953</td>\n",
              "    </tr>\n",
              "    <tr>\n",
              "      <th>bathrms</th>\n",
              "      <td>0.516719</td>\n",
              "      <td>0.193833</td>\n",
              "      <td>0.373769</td>\n",
              "      <td>1.000000</td>\n",
              "      <td>0.324066</td>\n",
              "      <td>0.041955</td>\n",
              "      <td>0.126892</td>\n",
              "      <td>0.102791</td>\n",
              "      <td>0.067365</td>\n",
              "      <td>0.184955</td>\n",
              "      <td>0.178178</td>\n",
              "      <td>0.064013</td>\n",
              "    </tr>\n",
              "    <tr>\n",
              "      <th>stories</th>\n",
              "      <td>0.421190</td>\n",
              "      <td>0.083675</td>\n",
              "      <td>0.407974</td>\n",
              "      <td>0.324066</td>\n",
              "      <td>1.000000</td>\n",
              "      <td>0.122499</td>\n",
              "      <td>0.042281</td>\n",
              "      <td>-0.173860</td>\n",
              "      <td>0.018261</td>\n",
              "      <td>0.296216</td>\n",
              "      <td>0.043412</td>\n",
              "      <td>0.042940</td>\n",
              "    </tr>\n",
              "    <tr>\n",
              "      <th>driveway</th>\n",
              "      <td>0.297167</td>\n",
              "      <td>0.288778</td>\n",
              "      <td>-0.011996</td>\n",
              "      <td>0.041955</td>\n",
              "      <td>0.122499</td>\n",
              "      <td>1.000000</td>\n",
              "      <td>0.091959</td>\n",
              "      <td>0.043428</td>\n",
              "      <td>-0.011942</td>\n",
              "      <td>0.106290</td>\n",
              "      <td>0.203682</td>\n",
              "      <td>0.199378</td>\n",
              "    </tr>\n",
              "    <tr>\n",
              "      <th>recroom</th>\n",
              "      <td>0.254960</td>\n",
              "      <td>0.140327</td>\n",
              "      <td>0.080492</td>\n",
              "      <td>0.126892</td>\n",
              "      <td>0.042281</td>\n",
              "      <td>0.091959</td>\n",
              "      <td>1.000000</td>\n",
              "      <td>0.372434</td>\n",
              "      <td>-0.010119</td>\n",
              "      <td>0.136626</td>\n",
              "      <td>0.038122</td>\n",
              "      <td>0.161292</td>\n",
              "    </tr>\n",
              "    <tr>\n",
              "      <th>fullbase</th>\n",
              "      <td>0.186218</td>\n",
              "      <td>0.047487</td>\n",
              "      <td>0.097201</td>\n",
              "      <td>0.102791</td>\n",
              "      <td>-0.173860</td>\n",
              "      <td>0.043428</td>\n",
              "      <td>0.372434</td>\n",
              "      <td>1.000000</td>\n",
              "      <td>0.004677</td>\n",
              "      <td>0.045248</td>\n",
              "      <td>0.052524</td>\n",
              "      <td>0.228651</td>\n",
              "    </tr>\n",
              "    <tr>\n",
              "      <th>gashw</th>\n",
              "      <td>0.092837</td>\n",
              "      <td>-0.009201</td>\n",
              "      <td>0.046028</td>\n",
              "      <td>0.067365</td>\n",
              "      <td>0.018261</td>\n",
              "      <td>-0.011942</td>\n",
              "      <td>-0.010119</td>\n",
              "      <td>0.004677</td>\n",
              "      <td>1.000000</td>\n",
              "      <td>-0.130350</td>\n",
              "      <td>0.068144</td>\n",
              "      <td>-0.059170</td>\n",
              "    </tr>\n",
              "    <tr>\n",
              "      <th>airco</th>\n",
              "      <td>0.453347</td>\n",
              "      <td>0.221765</td>\n",
              "      <td>0.160412</td>\n",
              "      <td>0.184955</td>\n",
              "      <td>0.296216</td>\n",
              "      <td>0.106290</td>\n",
              "      <td>0.136626</td>\n",
              "      <td>0.045248</td>\n",
              "      <td>-0.130350</td>\n",
              "      <td>1.000000</td>\n",
              "      <td>0.156596</td>\n",
              "      <td>0.115626</td>\n",
              "    </tr>\n",
              "    <tr>\n",
              "      <th>garagepl</th>\n",
              "      <td>0.383302</td>\n",
              "      <td>0.352872</td>\n",
              "      <td>0.139117</td>\n",
              "      <td>0.178178</td>\n",
              "      <td>0.043412</td>\n",
              "      <td>0.203682</td>\n",
              "      <td>0.038122</td>\n",
              "      <td>0.052524</td>\n",
              "      <td>0.068144</td>\n",
              "      <td>0.156596</td>\n",
              "      <td>1.000000</td>\n",
              "      <td>0.092364</td>\n",
              "    </tr>\n",
              "    <tr>\n",
              "      <th>prefarea</th>\n",
              "      <td>0.329074</td>\n",
              "      <td>0.234782</td>\n",
              "      <td>0.078953</td>\n",
              "      <td>0.064013</td>\n",
              "      <td>0.042940</td>\n",
              "      <td>0.199378</td>\n",
              "      <td>0.161292</td>\n",
              "      <td>0.228651</td>\n",
              "      <td>-0.059170</td>\n",
              "      <td>0.115626</td>\n",
              "      <td>0.092364</td>\n",
              "      <td>1.000000</td>\n",
              "    </tr>\n",
              "  </tbody>\n",
              "</table>\n",
              "</div>"
            ],
            "text/plain": [
              "             price   lotsize  bedrooms  ...     airco  garagepl  prefarea\n",
              "price     1.000000  0.535796  0.366447  ...  0.453347  0.383302  0.329074\n",
              "lotsize   0.535796  1.000000  0.151851  ...  0.221765  0.352872  0.234782\n",
              "bedrooms  0.366447  0.151851  1.000000  ...  0.160412  0.139117  0.078953\n",
              "bathrms   0.516719  0.193833  0.373769  ...  0.184955  0.178178  0.064013\n",
              "stories   0.421190  0.083675  0.407974  ...  0.296216  0.043412  0.042940\n",
              "driveway  0.297167  0.288778 -0.011996  ...  0.106290  0.203682  0.199378\n",
              "recroom   0.254960  0.140327  0.080492  ...  0.136626  0.038122  0.161292\n",
              "fullbase  0.186218  0.047487  0.097201  ...  0.045248  0.052524  0.228651\n",
              "gashw     0.092837 -0.009201  0.046028  ... -0.130350  0.068144 -0.059170\n",
              "airco     0.453347  0.221765  0.160412  ...  1.000000  0.156596  0.115626\n",
              "garagepl  0.383302  0.352872  0.139117  ...  0.156596  1.000000  0.092364\n",
              "prefarea  0.329074  0.234782  0.078953  ...  0.115626  0.092364  1.000000\n",
              "\n",
              "[12 rows x 12 columns]"
            ]
          },
          "metadata": {
            "tags": []
          },
          "execution_count": 16
        }
      ]
    },
    {
      "cell_type": "code",
      "metadata": {
        "id": "GN-_gV714SyX",
        "colab_type": "code",
        "colab": {
          "base_uri": "https://localhost:8080/",
          "height": 282
        },
        "outputId": "dfea245e-2195-467a-e7ee-7aa6aa1120ff"
      },
      "source": [
        "data.plot()"
      ],
      "execution_count": null,
      "outputs": [
        {
          "output_type": "execute_result",
          "data": {
            "text/plain": [
              "<matplotlib.axes._subplots.AxesSubplot at 0x7fd4b7953b38>"
            ]
          },
          "metadata": {
            "tags": []
          },
          "execution_count": 17
        },
        {
          "output_type": "display_data",
          "data": {
            "image/png": "[encoded data removed]",
            "text/plain": [
              "<Figure size 432x288 with 1 Axes>"
            ]
          },
          "metadata": {
            "tags": [],
            "needs_background": "light"
          }
        }
      ]
    },
    {
      "cell_type": "code",
      "metadata": {
        "id": "FKsQDfH_ULZC",
        "colab_type": "code",
        "colab": {
          "base_uri": "https://localhost:8080/",
          "height": 68
        },
        "outputId": "3c2d65da-333d-477b-ea59-e6f0806bcff3"
      },
      "source": [
        "#IMPLEMENT normalization\n",
        "#formula = (x - xMean) / xStd\n",
        "#x = independent var\n",
        "data.columns"
      ],
      "execution_count": null,
      "outputs": [
        {
          "output_type": "execute_result",
          "data": {
            "text/plain": [
              "Index(['price', 'lotsize', 'bedrooms', 'bathrms', 'stories', 'driveway',\n",
              "       'recroom', 'fullbase', 'gashw', 'airco', 'garagepl', 'prefarea'],\n",
              "      dtype='object')"
            ]
          },
          "metadata": {
            "tags": []
          },
          "execution_count": 18
        }
      ]
    },
    {
      "cell_type": "code",
      "metadata": {
        "id": "0RbYx4zuXLqV",
        "colab_type": "code",
        "colab": {
          "base_uri": "https://localhost:8080/",
          "height": 68
        },
        "outputId": "c6d8dbfe-652b-4b73-e209-3108bb93a0db"
      },
      "source": [
        "print(\"max value of lotsize before transformation: \", data[\"lotsize\"].max())\n",
        "print(\"min value of lotsize before transformation: \", data[\"lotsize\"].min())\n",
        "print(\"mean of lotsize before transformation :\" , data[\"lotsize\"].mean())"
      ],
      "execution_count": null,
      "outputs": [
        {
          "output_type": "stream",
          "text": [
            "max value of lotsize before transformation:  16200\n",
            "min value of lotsize before transformation:  1650\n",
            "mean of lotsize before transformation : 5150.2655677655675\n"
          ],
          "name": "stdout"
        }
      ]
    },
    {
      "cell_type": "code",
      "metadata": {
        "id": "_OEL4M8_Xo7z",
        "colab_type": "code",
        "colab": {
          "base_uri": "https://localhost:8080/",
          "height": 238
        },
        "outputId": "7a2f51ed-0d30-4b31-8ddd-2d58c409fe86"
      },
      "source": [
        "#perform transformation using standrdization\n",
        "x = data[\"lotsize\"]\n",
        "xMean = x.mean()\n",
        "xStd = x.std()\n",
        "xNorm = (x - xMean) / xStd\n",
        "print(\"x normalized after transformation  :\\n\", xNorm)"
      ],
      "execution_count": null,
      "outputs": [
        {
          "output_type": "stream",
          "text": [
            "x normalized after transformation  :\n",
            " 0      0.322732\n",
            "1     -0.530526\n",
            "2     -0.964074\n",
            "3      0.691709\n",
            "4      0.557955\n",
            "         ...   \n",
            "541   -0.161550\n",
            "542    0.391915\n",
            "543    0.391915\n",
            "544    0.391915\n",
            "545    0.391915\n",
            "Name: lotsize, Length: 546, dtype: float64\n"
          ],
          "name": "stdout"
        }
      ]
    },
    {
      "cell_type": "code",
      "metadata": {
        "id": "IWv3m8hgY5Fh",
        "colab_type": "code",
        "colab": {
          "base_uri": "https://localhost:8080/",
          "height": 51
        },
        "outputId": "5e91e256-4580-4260-9a23-c1c483a35ab8"
      },
      "source": [
        "print(\"min value of xNorm:\",xNorm.min())\n",
        "print(\"max value of xNorm\",xNorm.max())"
      ],
      "execution_count": null,
      "outputs": [
        {
          "output_type": "stream",
          "text": [
            "min value of xNorm: -1.6143954439482222\n",
            "max value of xNorm 5.096367855203785\n"
          ],
          "name": "stdout"
        }
      ]
    },
    {
      "cell_type": "code",
      "metadata": {
        "id": "7A9iJDKgZu7W",
        "colab_type": "code",
        "colab": {
          "base_uri": "https://localhost:8080/",
          "height": 68
        },
        "outputId": "f8887ca2-1a7f-419a-bc0d-afc45eb07c0d"
      },
      "source": [
        "independentVariables = data.columns\n",
        "print(independentVariables)"
      ],
      "execution_count": null,
      "outputs": [
        {
          "output_type": "stream",
          "text": [
            "Index(['price', 'lotsize', 'bedrooms', 'bathrms', 'stories', 'driveway',\n",
            "       'recroom', 'fullbase', 'gashw', 'airco', 'garagepl', 'prefarea'],\n",
            "      dtype='object')\n"
          ],
          "name": "stdout"
        }
      ]
    },
    {
      "cell_type": "code",
      "metadata": {
        "id": "AuYrcRsxaHDA",
        "colab_type": "code",
        "colab": {
          "base_uri": "https://localhost:8080/",
          "height": 68
        },
        "outputId": "66043a9f-1275-4cd5-e3d6-fc168b47b012"
      },
      "source": [
        "independentVariables = independentVariables.delete(0)\n",
        "print(independentVariables)"
      ],
      "execution_count": null,
      "outputs": [
        {
          "output_type": "stream",
          "text": [
            "Index(['lotsize', 'bedrooms', 'bathrms', 'stories', 'driveway', 'recroom',\n",
            "       'fullbase', 'gashw', 'airco', 'garagepl', 'prefarea'],\n",
            "      dtype='object')\n"
          ],
          "name": "stdout"
        }
      ]
    },
    {
      "cell_type": "code",
      "metadata": {
        "id": "SQRw-IabaWlp",
        "colab_type": "code",
        "colab": {}
      },
      "source": [
        "x = data[independentVariables]\n",
        "y = data[\"price\"]"
      ],
      "execution_count": null,
      "outputs": []
    },
    {
      "cell_type": "code",
      "metadata": {
        "id": "VXWiKygicpmT",
        "colab_type": "code",
        "colab": {}
      },
      "source": [
        "from sklearn.preprocessing import StandardScaler"
      ],
      "execution_count": null,
      "outputs": []
    },
    {
      "cell_type": "code",
      "metadata": {
        "id": "sGOMacBlahPM",
        "colab_type": "code",
        "colab": {}
      },
      "source": [
        "scale = StandardScaler"
      ],
      "execution_count": null,
      "outputs": []
    },
    {
      "cell_type": "code",
      "metadata": {
        "id": "SI66whXJg-Qb",
        "colab_type": "code",
        "colab": {
          "base_uri": "https://localhost:8080/",
          "height": 272
        },
        "outputId": "006df9d4-f206-4073-e535-394b4327c078"
      },
      "source": [
        "#feature scaling(0-1)\n",
        "#formula= (x-xmin) / (xmax - xmin)\n",
        "x = data[\"lotsize\"]\n",
        "xMin = x.min()\n",
        "xMax = x.max()\n",
        "xNorm = (x - xMin) / (xMax - xMin)\n",
        "print(\"normalized values are : \\n\",xNorm)\n",
        "print(\"min value after transform: \", xNorm.min())\n",
        "print(\"max value after transform: \", xNorm.max())"
      ],
      "execution_count": null,
      "outputs": [
        {
          "output_type": "stream",
          "text": [
            "normalized values are : \n",
            " 0      0.288660\n",
            "1      0.161512\n",
            "2      0.096907\n",
            "3      0.343643\n",
            "4      0.323711\n",
            "         ...   \n",
            "541    0.216495\n",
            "542    0.298969\n",
            "543    0.298969\n",
            "544    0.298969\n",
            "545    0.298969\n",
            "Name: lotsize, Length: 546, dtype: float64\n",
            "min value after transform:  0.0\n",
            "max value after transform:  1.0\n"
          ],
          "name": "stdout"
        }
      ]
    },
    {
      "cell_type": "code",
      "metadata": {
        "id": "RrJldVMdk6NY",
        "colab_type": "code",
        "colab": {
          "base_uri": "https://localhost:8080/",
          "height": 272
        },
        "outputId": "356ca6c4-a927-42b2-af89-0894be05e7b2"
      },
      "source": [
        "x = data[independentVariables]\n",
        "xMin = x.min()\n",
        "xMax = x.max()\n",
        "xNorm = (x - xMin) / (xMax - xMin)\n",
        "print(\"feature scale after normalization: \\n\",xNorm)"
      ],
      "execution_count": null,
      "outputs": [
        {
          "output_type": "stream",
          "text": [
            "feature scale after normalization: \n",
            "       lotsize  bedrooms   bathrms   stories  ...  gashw  airco  garagepl  prefarea\n",
            "0    0.288660       0.4  0.000000  0.333333  ...    0.0    0.0  0.333333       0.0\n",
            "1    0.161512       0.2  0.000000  0.000000  ...    0.0    0.0  0.000000       0.0\n",
            "2    0.096907       0.4  0.000000  0.000000  ...    0.0    0.0  0.000000       0.0\n",
            "3    0.343643       0.4  0.000000  0.333333  ...    0.0    0.0  0.000000       0.0\n",
            "4    0.323711       0.2  0.000000  0.000000  ...    0.0    0.0  0.000000       0.0\n",
            "..        ...       ...       ...       ...  ...    ...    ...       ...       ...\n",
            "541  0.216495       0.4  0.333333  1.000000  ...    0.0    1.0  0.000000       0.0\n",
            "542  0.298969       0.4  0.333333  1.000000  ...    0.0    1.0  0.000000       0.0\n",
            "543  0.298969       0.4  0.333333  1.000000  ...    0.0    1.0  0.333333       0.0\n",
            "544  0.298969       0.4  0.333333  0.333333  ...    0.0    1.0  0.333333       0.0\n",
            "545  0.298969       0.4  0.000000  0.333333  ...    0.0    1.0  0.333333       0.0\n",
            "\n",
            "[546 rows x 11 columns]\n"
          ],
          "name": "stdout"
        }
      ]
    },
    {
      "cell_type": "code",
      "metadata": {
        "id": "OaPahLgmlrSr",
        "colab_type": "code",
        "colab": {
          "base_uri": "https://localhost:8080/",
          "height": 282
        },
        "outputId": "a4c2af3f-d2f2-413a-d53a-47bb860d28eb"
      },
      "source": [
        "xNorm.plot()"
      ],
      "execution_count": null,
      "outputs": [
        {
          "output_type": "execute_result",
          "data": {
            "text/plain": [
              "<matplotlib.axes._subplots.AxesSubplot at 0x7fd4b8d223c8>"
            ]
          },
          "metadata": {
            "tags": []
          },
          "execution_count": 29
        },
        {
          "output_type": "display_data",
          "data": {
            "image/png": "[encoded data removed]",
            "text/plain": [
              "<Figure size 432x288 with 1 Axes>"
            ]
          },
          "metadata": {
            "tags": [],
            "needs_background": "light"
          }
        }
      ]
    },
    {
      "cell_type": "code",
      "metadata": {
        "id": "3DRH2n2A9X3e",
        "colab_type": "code",
        "colab": {
          "base_uri": "https://localhost:8080/",
          "height": 312
        },
        "outputId": "6c8714d5-541e-4c5c-cf99-364cb058301f"
      },
      "source": [
        "plt.scatter(xNorm[\"lotsize\"],data[\"price\"],color = \"green\")\n",
        "plt.scatter(xNorm[\"bedrooms\"],data[\"price\"],color = \"red\")\n",
        "plt.scatter(xNorm[\"bathrms\"],data[\"price\"],color = \"blue\")\n",
        "\n",
        "\n",
        "plt.title(\"comparison\")\n",
        "plt.xlabel(\"x\")\n",
        "plt.ylabel(\"y\")"
      ],
      "execution_count": null,
      "outputs": [
        {
          "output_type": "execute_result",
          "data": {
            "text/plain": [
              "Text(0, 0.5, 'y')"
            ]
          },
          "metadata": {
            "tags": []
          },
          "execution_count": 30
        },
        {
          "output_type": "display_data",
          "data": {
            "image/png": "[encoded data removed]",
            "text/plain": [
              "<Figure size 432x288 with 1 Axes>"
            ]
          },
          "metadata": {
            "tags": [],
            "needs_background": "light"
          }
        }
      ]
    },
    {
      "cell_type": "code",
      "metadata": {
        "id": "L0wbEX5g-VkW",
        "colab_type": "code",
        "colab": {}
      },
      "source": [
        "from sklearn.preprocessing import MinMaxScaler"
      ],
      "execution_count": null,
      "outputs": []
    },
    {
      "cell_type": "code",
      "metadata": {
        "id": "64vQ4rY7_tGN",
        "colab_type": "code",
        "colab": {}
      },
      "source": [
        "scale = MinMaxScaler()"
      ],
      "execution_count": null,
      "outputs": []
    },
    {
      "cell_type": "code",
      "metadata": {
        "id": "yos-z9A3_19j",
        "colab_type": "code",
        "colab": {
          "base_uri": "https://localhost:8080/",
          "height": 153
        },
        "outputId": "2e570032-9760-41a3-c062-c6e2fec8a0fb"
      },
      "source": [
        "xNorm = scale.fit_transform(x)\n",
        "print(\"transformation \\n\", xNorm)"
      ],
      "execution_count": null,
      "outputs": [
        {
          "output_type": "stream",
          "text": [
            "transformation \n",
            " [[0.28865979 0.4        0.         ... 0.         0.33333333 0.        ]\n",
            " [0.16151203 0.2        0.         ... 0.         0.         0.        ]\n",
            " [0.09690722 0.4        0.         ... 0.         0.         0.        ]\n",
            " ...\n",
            " [0.29896907 0.4        0.33333333 ... 1.         0.33333333 0.        ]\n",
            " [0.29896907 0.4        0.33333333 ... 1.         0.33333333 0.        ]\n",
            " [0.29896907 0.4        0.         ... 1.         0.33333333 0.        ]]\n"
          ],
          "name": "stdout"
        }
      ]
    },
    {
      "cell_type": "code",
      "metadata": {
        "id": "8mhR5yVDAJII",
        "colab_type": "code",
        "colab": {
          "base_uri": "https://localhost:8080/",
          "height": 551
        },
        "outputId": "5b6aaf60-e56c-432f-d51d-eb0c4fe9d516"
      },
      "source": [
        "#correlation matrix\n",
        "import seaborn as sns\n",
        "size = max(10, len(data.columns)/2.)\n",
        "f, ax = plt.subplots(figsize=(size, size))\n",
        "\n",
        "sns.heatmap(data.corr(), annot=True, square=True, linewidths=.5, cbar_kws={\"shrink\": 0.5}, ax=ax)\n",
        "\n"
      ],
      "execution_count": null,
      "outputs": [
        {
          "output_type": "execute_result",
          "data": {
            "text/plain": [
              "<matplotlib.axes._subplots.AxesSubplot at 0x7fd4b5dbc2b0>"
            ]
          },
          "metadata": {
            "tags": []
          },
          "execution_count": 34
        },
        {
          "output_type": "display_data",
          "data": {
            "image/png": "[encoded data removed]",
            "text/plain": [
              "<Figure size 720x720 with 2 Axes>"
            ]
          },
          "metadata": {
            "tags": [],
            "needs_background": "light"
          }
        }
      ]
    },
    {
      "cell_type": "code",
      "metadata": {
        "id": "Up0zsaC_FIJS",
        "colab_type": "code",
        "colab": {}
      },
      "source": [
        "  "
      ],
      "execution_count": null,
      "outputs": []
    },
    {
      "cell_type": "code",
      "metadata": {
        "id": "xQSc8MP5GCP2",
        "colab_type": "code",
        "colab": {}
      },
      "source": [
        "\n",
        "y = data[\"price\"]\n",
        "independentVar = data.columns\n",
        "independentVar = independentVar.delete(0)\n",
        "x = data[independentVar]"
      ],
      "execution_count": null,
      "outputs": []
    },
    {
      "cell_type": "code",
      "metadata": {
        "id": "cSNg1njCwxku",
        "colab_type": "code",
        "colab": {
          "base_uri": "https://localhost:8080/",
          "height": 34
        },
        "outputId": "80c22f12-1d63-422c-8257-690f7e133fce"
      },
      "source": [
        "\n",
        "\n",
        "\n",
        "# train the ordinary least sq regression\n",
        "from sklearn.linear_model import LinearRegression\n",
        "from statsmodels.api import OLS\n",
        "lr = LinearRegression()\n",
        "lr.fit(x,y)"
      ],
      "execution_count": null,
      "outputs": [
        {
          "output_type": "execute_result",
          "data": {
            "text/plain": [
              "LinearRegression(copy_X=True, fit_intercept=True, n_jobs=None, normalize=False)"
            ]
          },
          "metadata": {
            "tags": []
          },
          "execution_count": 36
        }
      ]
    },
    {
      "cell_type": "code",
      "metadata": {
        "id": "lpvy0X5Xxdeb",
        "colab_type": "code",
        "colab": {
          "base_uri": "https://localhost:8080/",
          "height": 34
        },
        "outputId": "8dd5f08b-db23-48c0-fff8-c4a483ef89af"
      },
      "source": [
        "from statsmodels.api import OLS\n",
        "OLS(y,x).fit()"
      ],
      "execution_count": null,
      "outputs": [
        {
          "output_type": "execute_result",
          "data": {
            "text/plain": [
              "<statsmodels.regression.linear_model.RegressionResultsWrapper at 0x7fd4b5e16e48>"
            ]
          },
          "metadata": {
            "tags": []
          },
          "execution_count": 37
        }
      ]
    },
    {
      "cell_type": "code",
      "metadata": {
        "id": "MvMv1f7oybiO",
        "colab_type": "code",
        "colab": {
          "base_uri": "https://localhost:8080/",
          "height": 1000
        },
        "outputId": "1b7d0a8c-8a20-470b-cdfd-4cd80b9c194b"
      },
      "source": [
        "ypred = lr.predict(x)\n"
      ],
      "execution_count": null,
      "outputs": [
        {
          "output_type": "execute_result",
          "data": {
            "text/plain": [
              "array([ 66037.97567237,  41391.15145679,  39889.63013056,  63689.08733076,\n",
              "        49760.42646619,  66387.12316802,  77632.14629398,  56904.45482064,\n",
              "        56023.86666406, 103938.00821564,  99726.64585232,  31157.06959629,\n",
              "        41623.60380274,  32563.51670553,  39972.63026876,  51133.80494099,\n",
              "        44854.73866879,  62424.61337517,  37608.6813576 ,  63197.78116303,\n",
              "        79405.33724015,  73208.66262212,  62412.99103875,  41157.09546077,\n",
              "        44795.60230807,  44401.7941982 ,  40681.89086277,  62880.87825234,\n",
              "        45621.96346675,  64186.14252379,  38382.60662078,  70961.50102802,\n",
              "        41391.15145679,  43164.30294183,  56317.37217768,  64286.85135531,\n",
              "        46957.01869128,  79676.05693673,  92035.03513952,  51476.9590496 ,\n",
              "        54328.17891601,  69709.45412264,  58126.56700477, 106846.95011357,\n",
              "        40855.49122811,  42019.50981801,  31298.92171509,  39865.18604074,\n",
              "        54885.72177194,  47475.00370338,  72389.85989468,  44174.39533413,\n",
              "        86286.28655318,  72450.57356293,  74962.59040738,  40043.55632816,\n",
              "        30861.29127989,  91817.81745181,  51198.62182196,  44106.01588179,\n",
              "        48373.65352469,  44050.87868435,  63506.6647019 ,  52688.0690694 ,\n",
              "        66895.22792026,  67732.44549387,  71553.53166708,  70813.86234556,\n",
              "        42016.80851606,  66025.78029604,  50217.70824761,  52218.12864881,\n",
              "        32481.55847856,  44371.98860455,  52430.90682701,  33627.40759655,\n",
              "        40210.89530326,  66789.41160837,  66760.78503778,  72090.53141479,\n",
              "        63264.10375157,  40764.29513955,  48538.8945944 ,  55574.56838533,\n",
              "        57131.57988042,  68764.87251847,  66405.13932567,  77140.91563658,\n",
              "        42089.67749104,  48127.68511957,  60492.20840637,  75695.07386445,\n",
              "        94826.6780363 , 114310.46230412,  84427.07072599,  51320.79977303,\n",
              "        66784.60055397,  76481.81509775,  44129.28379785,  37259.70849664,\n",
              "        77286.30764117,  81421.19103101,  77688.36739888,  85495.57535796,\n",
              "        76123.24965727,  43518.93323884,  46343.29813957,  62980.84215185,\n",
              "        70533.02549774,  50468.24507982,  40351.19802784,  36476.52405142,\n",
              "        65959.29400883,  70619.41881606,  80900.38362634,  67692.38743948,\n",
              "        70250.05219619,  86445.76405087,  74876.76453708,  90356.99677497,\n",
              "        47054.50164916,  93243.46087781,  42809.67264483,  57003.82413313,\n",
              "        51513.92235698,  79701.10760656,  99610.46976187, 102260.46177217,\n",
              "        92942.97754023,  91877.27312391,  50926.99166315,  49248.15518842,\n",
              "        46283.99441659,  51180.86748559,  50861.70021828,  90398.98893541,\n",
              "        51092.23273286,  54512.47244611,  35366.43557092,  48893.52489141,\n",
              "        46233.79766385,  54689.8061681 ,  81662.85760108,  36476.52405142,\n",
              "        62950.74917282,  66797.48392407,  59216.87859348,  89521.99156955,\n",
              "        88769.66703658,  53739.88588163,  52074.46300472,  39546.01877343,\n",
              "        70562.34899237,  45918.62955981,  42336.57917992,  68666.08101744,\n",
              "        64152.39736852,  54816.36605599,  44779.20949193,  42978.84004847,\n",
              "        63686.01815415,  72646.75358786,  32669.90579463,  50814.02517265,\n",
              "        58255.3669357 ,  61942.45501941,  53632.89339598,  38967.59135834,\n",
              "        53601.93615731,  45353.03460989,  45531.40489731,  42096.86120976,\n",
              "        30967.68036899,  41915.02198678,  51813.85011022,  84124.59127842,\n",
              "        56576.9282577 ,  90465.7407982 ,  69697.34867547,  43718.58219933,\n",
              "        40402.18578844,  49744.63760423,  44428.89793227,  48042.41217859,\n",
              "        44699.47295216,  62967.47671638,  53977.26340216,  47325.07666905,\n",
              "        48677.91740159,  62329.99090055,  56957.62654366,  52711.90976268,\n",
              "        45493.0732034 ,  77973.81473554,  38483.18302132,  33408.97198229,\n",
              "        43081.30280364,  61409.76305379,  34455.13135847,  53707.57589624,\n",
              "        46049.46273874,  71616.51798454,  47324.1888924 ,  63039.69413246,\n",
              "        55949.51161878,  59259.88367751,  37152.26426862,  48084.74303577,\n",
              "        43035.74256569,  57023.34635175,  34125.22953139,  30093.17870526,\n",
              "        31925.18217091,  45636.73884749,  58328.6106232 ,  40079.01935786,\n",
              "       118660.56061707,  40077.96421894,  50874.4730818 ,  54599.35789008,\n",
              "        39971.57512984,  81197.68079391,  54734.19023228,  69273.10563378,\n",
              "        59718.68855814,  75502.42159635,  67313.56566322,  52442.95808428,\n",
              "        80341.17477609,  71364.11107141,  80935.90495334,  96808.76393155,\n",
              "        49248.15518842,  32764.98001162,  44401.7941982 ,  50417.45285897,\n",
              "        63034.45901365,  58102.41884718,  51786.89203482,  48065.80112949,\n",
              "        61645.99706521,  57034.68460301,  55917.47757496,  40146.39911429,\n",
              "        55126.09708428,  30837.90232898,  43791.90291668,  59053.6829007 ,\n",
              "        39617.99997175,  53282.01953983,  55214.73183701,  59476.87003894,\n",
              "        59559.82191584,  83121.16029348,  52888.77316881,  57526.84854416,\n",
              "        95679.24880212,  78977.04012067,  40114.48238756,  48483.75739696,\n",
              "        56576.9282577 ,  55787.8205698 ,  40114.48238756,  41533.00357559,\n",
              "        44359.31139189,  40114.48238756,  40519.30943731,  39972.63026876,\n",
              "        39972.63026876,  66486.25798149,  68291.37557249,  56592.15538081,\n",
              "        74543.2670278 ,  66045.0095877 ,  61136.32196952,  77126.89285893,\n",
              "        72502.20016712,  54024.92963826,  49638.24851513,  66694.52382085,\n",
              "        56370.54390071,  81051.02340399,  92149.78352426,  51143.48462452,\n",
              "        76001.27349302,  50090.34686676,  73590.93800045,  60300.54637629,\n",
              "        43366.34656027,  38781.07247081,  43223.15492244,  54024.92963826,\n",
              "        42334.37239597,  41533.00357559,  45777.83257993,  46990.57254484,\n",
              "        52373.95610429,  50904.18302459,  46533.29076341,  41533.00357559,\n",
              "        41674.8556944 ,  78814.61945387,  52334.77829142,  58553.4628802 ,\n",
              "        70927.56454367,  64953.65196455, 100253.05986928,  63890.80684528,\n",
              "        70371.05657331,  85501.34320537,  60922.46609356,  68371.67385112,\n",
              "        64319.07360811,  68330.55338536,  89042.23129946,  89707.49931737,\n",
              "        66440.295027  ,  72516.23972032,  75719.92117798,  73225.50031434,\n",
              "        83045.5040358 ,  96150.59102439,  98377.28284144,  67193.48027176,\n",
              "        79169.69238876, 103751.72254489,  75574.82935995, 107146.93030455,\n",
              "       108991.00784899,  64756.21090594,  99833.51704044, 150689.71107703,\n",
              "        57516.09541091,  40859.20601128,  66596.55084569,  59005.54265834,\n",
              "       101724.06861718, 120250.77944629, 106607.67729489,  49425.47033692,\n",
              "        52684.35428623,  51686.18320329,  68686.94976668,  73679.94256174,\n",
              "        77300.03394677,  42691.20947693,  73066.33649705,  59640.44511433,\n",
              "        56617.20428006,  58269.7586426 ,  64004.49032714,  65871.39508363,\n",
              "        65827.09875204,  69774.12714725,  70675.56039025,  79069.27048516,\n",
              "        90297.97005245, 101257.06164512, 112496.42484351, 106851.27043588,\n",
              "       111378.95230378, 140131.24171465, 108563.18159102,  83503.99989905,\n",
              "       105482.81778891,  96545.75959176, 117915.61725481, 108561.01257993,\n",
              "       125380.12073696,  88317.50641501,  92048.1609498 ,  79259.99729324,\n",
              "       111365.94494123, 115411.0031299 ,  98944.94493796, 101237.96778972,\n",
              "       114194.09719709, 115125.02608952,  77741.02909495,  91570.44828547,\n",
              "       127551.58531551,  86277.96239084, 118350.53515057,  81986.3401983 ,\n",
              "        94501.23289463,  72840.61614017, 100651.63774985,  89877.43708395,\n",
              "        80053.6050796 ,  97864.09782074,  86464.93440136, 112309.30088386,\n",
              "        88513.62473014, 103043.17498561,  71776.72524914,  84706.28174702,\n",
              "        97304.15176002,  98958.84007717,  77173.62061974,  93204.27853957,\n",
              "        95771.77906839,  92643.55340062,  85207.53382223,  74075.83459375,\n",
              "        83433.00335703,  87176.17460851,  80266.38325781,  79740.9983114 ,\n",
              "        94233.8902962 , 101895.39617973,  80021.39755557, 101540.76588272,\n",
              "       107601.2291784 ,  63147.97353688,  68171.53057464,  87945.18406427,\n",
              "       100367.49692032,  78966.32523767, 118548.99915941,  83318.45508377,\n",
              "        94012.14364253,  85774.77381725,  70963.87563892,  55177.75454636,\n",
              "        62827.03440198,  63273.95741657,  59686.61362056,  53274.89785065,\n",
              "        48916.58715128,  69259.4229176 ,  55615.38498157,  73794.40315892,\n",
              "        68316.78422901,  83595.71541554, 105839.56472027,  86003.31436129,\n",
              "        86961.12362753,  57447.38844722,  72462.24392084,  90421.68138672,\n",
              "        59380.10074439,  67458.59492127,  50890.44273573,  83522.68694002,\n",
              "        76050.14192057,  97063.32597972, 109466.58026528, 102966.73521058,\n",
              "        68774.08883195,  62282.43456533,  53727.4851118 ,  66283.79202116,\n",
              "        78125.18034281,  70951.78298664,  65314.97478949,  72648.85164873,\n",
              "        90375.00473264, 116288.22947473,  46911.49080329,  58023.6074028 ,\n",
              "        58023.6074028 ,  59128.16757484,  59672.63828389,  71667.63679198,\n",
              "        59128.16757484,  85053.48363218,  61649.58898657,  57562.58801669,\n",
              "        55360.43761588,  67634.2236253 ,  63372.99657918,  53743.3881981 ,\n",
              "        91388.76722132,  88791.68511279,  80627.57405393,  86450.81153371,\n",
              "        77559.98058979,  90701.00845906,  91987.64534625,  75270.84304381,\n",
              "        84594.83835572,  89707.60098955,  99439.83356021,  50760.66469572,\n",
              "        64203.07278371,  95315.64182968,  55753.67848564,  60175.82263847,\n",
              "        54135.03351053,  48058.20104055,  74941.28868688,  50386.68692201,\n",
              "        41568.4666053 ,  61239.7135295 ,  59698.12661374,  55714.95185751,\n",
              "        50448.69194693,  57287.52837074,  58294.9425453 ,  93064.21560393,\n",
              "        75411.50812161, 105840.77165284,  52869.09900107,  69321.18922447,\n",
              "        82239.54008219,  54191.86319841,  99517.16162919,  80374.9927607 ,\n",
              "        92964.03134411,  54166.78175707,  70524.33972682,  54360.4889014 ,\n",
              "        67613.98232598,  58814.25217316,  58393.75011895,  52747.29568765,\n",
              "        94909.38498486,  98787.05033589,  90769.10063006,  79964.37787288,\n",
              "       113500.95215607, 107543.16316633, 103031.87934023,  94643.81793974,\n",
              "       103031.87934023, 110675.50175978, 102430.34735434,  88016.86587151,\n",
              "       101199.87587458,  90398.10115875,  95620.43023667,  94655.44938065,\n",
              "        83274.90936486,  79089.90330214,  72516.23972032,  96245.78627623,\n",
              "        96955.04687024,  71806.97912631,  92171.2526438 ,  77721.38842861,\n",
              "        90428.79452906,  97210.76713225,  96955.04687024, 105711.15970068,\n",
              "        92597.2682777 ,  73750.42598325])"
            ]
          },
          "metadata": {
            "tags": []
          },
          "execution_count": 38
        }
      ]
    },
    {
      "cell_type": "code",
      "metadata": {
        "id": "55N6hh3hzMCr",
        "colab_type": "code",
        "colab": {
          "base_uri": "https://localhost:8080/",
          "height": 221
        },
        "outputId": "97941958-3611-4718-ff48-8aa9ffd3cc64"
      },
      "source": [
        "# sum of sq total(SST) = (sum of (y - ymean)^2)\n",
        "y"
      ],
      "execution_count": null,
      "outputs": [
        {
          "output_type": "execute_result",
          "data": {
            "text/plain": [
              "0       42000.0\n",
              "1       38500.0\n",
              "2       49500.0\n",
              "3       60500.0\n",
              "4       61000.0\n",
              "         ...   \n",
              "541     91500.0\n",
              "542     94000.0\n",
              "543    103000.0\n",
              "544    105000.0\n",
              "545    105000.0\n",
              "Name: price, Length: 546, dtype: float64"
            ]
          },
          "metadata": {
            "tags": []
          },
          "execution_count": 39
        }
      ]
    },
    {
      "cell_type": "code",
      "metadata": {
        "id": "yuzDse1Czm5a",
        "colab_type": "code",
        "colab": {}
      },
      "source": [
        "ymean = y.mean()"
      ],
      "execution_count": null,
      "outputs": []
    },
    {
      "cell_type": "code",
      "metadata": {
        "id": "As9Lvrqfzo7u",
        "colab_type": "code",
        "colab": {
          "base_uri": "https://localhost:8080/",
          "height": 34
        },
        "outputId": "c846a45e-a193-4277-e4d0-aef466914f71"
      },
      "source": [
        "print(\"ymean\", ymean)"
      ],
      "execution_count": null,
      "outputs": [
        {
          "output_type": "stream",
          "text": [
            "ymean 68121.59706959708\n"
          ],
          "name": "stdout"
        }
      ]
    },
    {
      "cell_type": "code",
      "metadata": {
        "id": "LOsfHCHLz1OL",
        "colab_type": "code",
        "colab": {
          "base_uri": "https://localhost:8080/",
          "height": 238
        },
        "outputId": "f4e91428-4770-495d-8afc-cce698d4d83e"
      },
      "source": [
        "#cal sq of y - ymean using numpy\n",
        "import numpy as np\n",
        "sqTotal = np.square(y - ymean)\n",
        "print (\"sqTotal is : \\n\",sqTotal)"
      ],
      "execution_count": null,
      "outputs": [
        {
          "output_type": "stream",
          "text": [
            "sqTotal is : \n",
            " 0      6.823378e+08\n",
            "1      8.774390e+08\n",
            "2      3.467639e+08\n",
            "3      5.808874e+07\n",
            "4      5.071714e+07\n",
            "           ...     \n",
            "541    5.465497e+08\n",
            "542    6.696917e+08\n",
            "543    1.216503e+09\n",
            "544    1.360017e+09\n",
            "545    1.360017e+09\n",
            "Name: price, Length: 546, dtype: float64\n"
          ],
          "name": "stdout"
        }
      ]
    },
    {
      "cell_type": "code",
      "metadata": {
        "id": "yQUeQIXQ0I0q",
        "colab_type": "code",
        "colab": {
          "base_uri": "https://localhost:8080/",
          "height": 34
        },
        "outputId": "470d82b7-c0f6-4870-8b10-132d668ac2f5"
      },
      "source": [
        "sst = sqTotal.sum()\n",
        "print(\"sst = \",sst)"
      ],
      "execution_count": null,
      "outputs": [
        {
          "output_type": "stream",
          "text": [
            "sst =  388602785841.3553\n"
          ],
          "name": "stdout"
        }
      ]
    },
    {
      "cell_type": "code",
      "metadata": {
        "id": "-wRjMYX00htD",
        "colab_type": "code",
        "colab": {
          "base_uri": "https://localhost:8080/",
          "height": 34
        },
        "outputId": "c106116d-79eb-4f86-dac4-d9ce2518b60d"
      },
      "source": [
        "#ssr(sum of sq resideual)\n",
        "squaredResideual = np.square(ypred-ymean)\n",
        "ssr = squaredResideual.sum()\n",
        "print(\"ssr :\",ssr)"
      ],
      "execution_count": null,
      "outputs": [
        {
          "output_type": "stream",
          "text": [
            "ssr : 261577714196.88992\n"
          ],
          "name": "stdout"
        }
      ]
    },
    {
      "cell_type": "code",
      "metadata": {
        "id": "s4wwsaHL1RKX",
        "colab_type": "code",
        "colab": {
          "base_uri": "https://localhost:8080/",
          "height": 34
        },
        "outputId": "1780f877-89cf-4fba-f66c-e3401018d10c"
      },
      "source": [
        "#calc rsquare = r2score\n",
        "r2Score = (ssr / sst)\n",
        "print (\"r2 score :\",r2Score)"
      ],
      "execution_count": null,
      "outputs": [
        {
          "output_type": "stream",
          "text": [
            "r2 score : 0.6731236206414574\n"
          ],
          "name": "stdout"
        }
      ]
    },
    {
      "cell_type": "code",
      "metadata": {
        "id": "Gg0Cxm4j1s-7",
        "colab_type": "code",
        "colab": {
          "base_uri": "https://localhost:8080/",
          "height": 238
        },
        "outputId": "956ca760-bbbf-4b9f-f69d-9b253b91b3a1"
      },
      "source": [
        "\n",
        "\n",
        "\n",
        "\n",
        "# calc rms error\n",
        "error = y - ypred\n",
        "print(\"error: \\n\", error)"
      ],
      "execution_count": null,
      "outputs": [
        {
          "output_type": "stream",
          "text": [
            "error: \n",
            " 0     -24037.975672\n",
            "1      -2891.151457\n",
            "2       9610.369869\n",
            "3      -3189.087331\n",
            "4      11239.573534\n",
            "           ...     \n",
            "541    -5710.767132\n",
            "542    -2955.046870\n",
            "543    -2711.159701\n",
            "544    12402.731722\n",
            "545    31249.574017\n",
            "Name: price, Length: 546, dtype: float64\n"
          ],
          "name": "stdout"
        }
      ]
    },
    {
      "cell_type": "code",
      "metadata": {
        "id": "Ac0ygomv2ibg",
        "colab_type": "code",
        "colab": {
          "base_uri": "https://localhost:8080/",
          "height": 238
        },
        "outputId": "d6b15f86-7f58-43e0-a0e7-ec8aa45ea541"
      },
      "source": [
        "#sq\n",
        "sqError = np.square(error)\n",
        "print(\"squared errors : \\n\",sqError)"
      ],
      "execution_count": null,
      "outputs": [
        {
          "output_type": "stream",
          "text": [
            "squared errors : \n",
            " 0      5.778243e+08\n",
            "1      8.358757e+06\n",
            "2      9.235921e+07\n",
            "3      1.017028e+07\n",
            "4      1.263280e+08\n",
            "           ...     \n",
            "541    3.261286e+07\n",
            "542    8.732302e+06\n",
            "543    7.350387e+06\n",
            "544    1.538278e+08\n",
            "545    9.765359e+08\n",
            "Name: price, Length: 546, dtype: float64\n"
          ],
          "name": "stdout"
        }
      ]
    },
    {
      "cell_type": "code",
      "metadata": {
        "id": "VHi8n5G52zes",
        "colab_type": "code",
        "colab": {
          "base_uri": "https://localhost:8080/",
          "height": 102
        },
        "outputId": "2d7473b2-0061-48a2-e1bd-be3254db4cb7"
      },
      "source": [
        "#mean\n",
        "sse = sqError.sum()\n",
        "meanError = sse / len(y)\n",
        "print(\"mean sq errors : \\n\",meanError)\n",
        "print(\"no. of elements: \",len(y))\n",
        "rmse = np.sqrt(meanError)\n",
        "print(\"rrot mean square error: \\n\",rmse)"
      ],
      "execution_count": null,
      "outputs": [
        {
          "output_type": "stream",
          "text": [
            "mean sq errors : \n",
            " 232646651.36349452\n",
            "no. of elements:  546\n",
            "rrot mean square error: \n",
            " 15252.758811555846\n"
          ],
          "name": "stdout"
        }
      ]
    },
    {
      "cell_type": "code",
      "metadata": {
        "id": "X1FBemNG3KB1",
        "colab_type": "code",
        "colab": {
          "base_uri": "https://localhost:8080/",
          "height": 34
        },
        "outputId": "9f5b4b8b-16e6-4657-f67a-6f3b4b0a8527"
      },
      "source": [
        "#mean absolute error\n",
        "absError = abs(y - ypred)\n",
        "sae = absError.sum()\n",
        "mae = sae / len(y)\n",
        "print(\"mean abs error : \",mae)"
      ],
      "execution_count": null,
      "outputs": [
        {
          "output_type": "stream",
          "text": [
            "mean abs error :  11239.02923948371\n"
          ],
          "name": "stdout"
        }
      ]
    },
    {
      "cell_type": "code",
      "metadata": {
        "id": "cb2GsuH66Tzv",
        "colab_type": "code",
        "colab": {
          "base_uri": "https://localhost:8080/",
          "height": 34
        },
        "outputId": "5e10092b-1fca-422b-ca93-cec3ea887acf"
      },
      "source": [
        "# r2 score, rms ,mae usings sklearn\n",
        "from sklearn.metrics import r2_score,mean_absolute_error,mean_squared_error\n",
        "r2score = r2_score(y,  ypred)\n",
        "print(\"r 2 score : \",r2score)"
      ],
      "execution_count": null,
      "outputs": [
        {
          "output_type": "stream",
          "text": [
            "r 2 score :  0.6731236206414506\n"
          ],
          "name": "stdout"
        }
      ]
    },
    {
      "cell_type": "code",
      "metadata": {
        "id": "dwHU3Llo7BR9",
        "colab_type": "code",
        "colab": {}
      },
      "source": [
        " "
      ],
      "execution_count": null,
      "outputs": []
    },
    {
      "cell_type": "code",
      "metadata": {
        "id": "SFckrOO3fJ4L",
        "colab_type": "code",
        "colab": {}
      },
      "source": [
        "y = data[\"price\"]\n",
        "independentVar = data.columns\n",
        "independentVar = independentVar.delete(0)\n",
        "x = data[independentVar]"
      ],
      "execution_count": null,
      "outputs": []
    },
    {
      "cell_type": "code",
      "metadata": {
        "id": "Ite-MviziuG3",
        "colab_type": "code",
        "colab": {
          "base_uri": "https://localhost:8080/",
          "height": 667
        },
        "outputId": "83ad2d3f-5694-4bd8-e68f-57b0da25656f"
      },
      "source": [
        "#fit the ordinary linear regression model\n",
        "import statsmodels.api as sm\n",
        "model = sm.OLS(y,x)\n",
        "#train the model\n",
        "model = model.fit()\n",
        "#summary\n",
        "model.summary()"
      ],
      "execution_count": null,
      "outputs": [
        {
          "output_type": "execute_result",
          "data": {
            "text/html": [
              "<table class=\"simpletable\">\n",
              "<caption>OLS Regression Results</caption>\n",
              "<tr>\n",
              "  <th>Dep. Variable:</th>          <td>price</td>      <th>  R-squared (uncentered):</th>      <td>   0.956</td> \n",
              "</tr>\n",
              "<tr>\n",
              "  <th>Model:</th>                   <td>OLS</td>       <th>  Adj. R-squared (uncentered):</th> <td>   0.956</td> \n",
              "</tr>\n",
              "<tr>\n",
              "  <th>Method:</th>             <td>Least Squares</td>  <th>  F-statistic:       </th>          <td>   1067.</td> \n",
              "</tr>\n",
              "<tr>\n",
              "  <th>Date:</th>             <td>Fri, 26 Jun 2020</td> <th>  Prob (F-statistic):</th>           <td>  0.00</td>  \n",
              "</tr>\n",
              "<tr>\n",
              "  <th>Time:</th>                 <td>10:20:01</td>     <th>  Log-Likelihood:    </th>          <td> -6034.8</td> \n",
              "</tr>\n",
              "<tr>\n",
              "  <th>No. Observations:</th>      <td>   546</td>      <th>  AIC:               </th>          <td>1.209e+04</td>\n",
              "</tr>\n",
              "<tr>\n",
              "  <th>Df Residuals:</th>          <td>   535</td>      <th>  BIC:               </th>          <td>1.214e+04</td>\n",
              "</tr>\n",
              "<tr>\n",
              "  <th>Df Model:</th>              <td>    11</td>      <th>                     </th>              <td> </td>    \n",
              "</tr>\n",
              "<tr>\n",
              "  <th>Covariance Type:</th>      <td>nonrobust</td>    <th>                     </th>              <td> </td>    \n",
              "</tr>\n",
              "</table>\n",
              "<table class=\"simpletable\">\n",
              "<tr>\n",
              "      <td></td>        <th>coef</th>     <th>std err</th>      <th>t</th>      <th>P>|t|</th>  <th>[0.025</th>    <th>0.975]</th>  \n",
              "</tr>\n",
              "<tr>\n",
              "  <th>lotsize</th>  <td>    3.4431</td> <td>    0.339</td> <td>   10.144</td> <td> 0.000</td> <td>    2.776</td> <td>    4.110</td>\n",
              "</tr>\n",
              "<tr>\n",
              "  <th>bedrooms</th> <td> 1095.9263</td> <td>  842.938</td> <td>    1.300</td> <td> 0.194</td> <td> -559.947</td> <td> 2751.800</td>\n",
              "</tr>\n",
              "<tr>\n",
              "  <th>bathrms</th>  <td> 1.402e+04</td> <td> 1466.301</td> <td>    9.561</td> <td> 0.000</td> <td> 1.11e+04</td> <td> 1.69e+04</td>\n",
              "</tr>\n",
              "<tr>\n",
              "  <th>stories</th>  <td> 6526.5732</td> <td>  925.283</td> <td>    7.054</td> <td> 0.000</td> <td> 4708.940</td> <td> 8344.206</td>\n",
              "</tr>\n",
              "<tr>\n",
              "  <th>driveway</th> <td> 5665.6447</td> <td> 1854.971</td> <td>    3.054</td> <td> 0.002</td> <td> 2021.724</td> <td> 9309.565</td>\n",
              "</tr>\n",
              "<tr>\n",
              "  <th>recroom</th>  <td> 4659.4642</td> <td> 1896.548</td> <td>    2.457</td> <td> 0.014</td> <td>  933.870</td> <td> 8385.059</td>\n",
              "</tr>\n",
              "<tr>\n",
              "  <th>fullbase</th> <td> 5306.1054</td> <td> 1583.810</td> <td>    3.350</td> <td> 0.001</td> <td> 2194.856</td> <td> 8417.355</td>\n",
              "</tr>\n",
              "<tr>\n",
              "  <th>gashw</th>    <td> 1.285e+04</td> <td> 3218.757</td> <td>    3.993</td> <td> 0.000</td> <td> 6529.985</td> <td> 1.92e+04</td>\n",
              "</tr>\n",
              "<tr>\n",
              "  <th>airco</th>    <td>  1.28e+04</td> <td> 1549.330</td> <td>    8.260</td> <td> 0.000</td> <td> 9754.655</td> <td> 1.58e+04</td>\n",
              "</tr>\n",
              "<tr>\n",
              "  <th>garagepl</th> <td> 4379.7318</td> <td>  833.106</td> <td>    5.257</td> <td> 0.000</td> <td> 2743.173</td> <td> 6016.291</td>\n",
              "</tr>\n",
              "<tr>\n",
              "  <th>prefarea</th> <td> 9561.2358</td> <td> 1661.849</td> <td>    5.753</td> <td> 0.000</td> <td> 6296.687</td> <td> 1.28e+04</td>\n",
              "</tr>\n",
              "</table>\n",
              "<table class=\"simpletable\">\n",
              "<tr>\n",
              "  <th>Omnibus:</th>       <td>101.942</td> <th>  Durbin-Watson:     </th> <td>   1.576</td>\n",
              "</tr>\n",
              "<tr>\n",
              "  <th>Prob(Omnibus):</th> <td> 0.000</td>  <th>  Jarque-Bera (JB):  </th> <td> 279.382</td>\n",
              "</tr>\n",
              "<tr>\n",
              "  <th>Skew:</th>          <td> 0.915</td>  <th>  Prob(JB):          </th> <td>2.15e-61</td>\n",
              "</tr>\n",
              "<tr>\n",
              "  <th>Kurtosis:</th>      <td> 5.988</td>  <th>  Cond. No.          </th> <td>2.74e+04</td>\n",
              "</tr>\n",
              "</table><br/><br/>Warnings:<br/>[1] Standard Errors assume that the covariance matrix of the errors is correctly specified.<br/>[2] The condition number is large, 2.74e+04. This might indicate that there are<br/>strong multicollinearity or other numerical problems."
            ],
            "text/plain": [
              "<class 'statsmodels.iolib.summary.Summary'>\n",
              "\"\"\"\n",
              "                                 OLS Regression Results                                \n",
              "=======================================================================================\n",
              "Dep. Variable:                  price   R-squared (uncentered):                   0.956\n",
              "Model:                            OLS   Adj. R-squared (uncentered):              0.956\n",
              "Method:                 Least Squares   F-statistic:                              1067.\n",
              "Date:                Fri, 26 Jun 2020   Prob (F-statistic):                        0.00\n",
              "Time:                        10:20:01   Log-Likelihood:                         -6034.8\n",
              "No. Observations:                 546   AIC:                                  1.209e+04\n",
              "Df Residuals:                     535   BIC:                                  1.214e+04\n",
              "Df Model:                          11                                                  \n",
              "Covariance Type:            nonrobust                                                  \n",
              "==============================================================================\n",
              "                 coef    std err          t      P>|t|      [0.025      0.975]\n",
              "------------------------------------------------------------------------------\n",
              "lotsize        3.4431      0.339     10.144      0.000       2.776       4.110\n",
              "bedrooms    1095.9263    842.938      1.300      0.194    -559.947    2751.800\n",
              "bathrms     1.402e+04   1466.301      9.561      0.000    1.11e+04    1.69e+04\n",
              "stories     6526.5732    925.283      7.054      0.000    4708.940    8344.206\n",
              "driveway    5665.6447   1854.971      3.054      0.002    2021.724    9309.565\n",
              "recroom     4659.4642   1896.548      2.457      0.014     933.870    8385.059\n",
              "fullbase    5306.1054   1583.810      3.350      0.001    2194.856    8417.355\n",
              "gashw       1.285e+04   3218.757      3.993      0.000    6529.985    1.92e+04\n",
              "airco        1.28e+04   1549.330      8.260      0.000    9754.655    1.58e+04\n",
              "garagepl    4379.7318    833.106      5.257      0.000    2743.173    6016.291\n",
              "prefarea    9561.2358   1661.849      5.753      0.000    6296.687    1.28e+04\n",
              "==============================================================================\n",
              "Omnibus:                      101.942   Durbin-Watson:                   1.576\n",
              "Prob(Omnibus):                  0.000   Jarque-Bera (JB):              279.382\n",
              "Skew:                           0.915   Prob(JB):                     2.15e-61\n",
              "Kurtosis:                       5.988   Cond. No.                     2.74e+04\n",
              "==============================================================================\n",
              "\n",
              "Warnings:\n",
              "[1] Standard Errors assume that the covariance matrix of the errors is correctly specified.\n",
              "[2] The condition number is large, 2.74e+04. This might indicate that there are\n",
              "strong multicollinearity or other numerical problems.\n",
              "\"\"\""
            ]
          },
          "metadata": {
            "tags": []
          },
          "execution_count": 52
        }
      ]
    },
    {
      "cell_type": "code",
      "metadata": {
        "id": "8AWzjDAzjbvh",
        "colab_type": "code",
        "colab": {
          "base_uri": "https://localhost:8080/",
          "height": 459
        },
        "outputId": "f71475fb-9a5d-416b-af70-4db43d977401"
      },
      "source": [
        "#calc VIF\n",
        "from statsmodels.stats.outliers_influence import variance_inflation_factor as vif\n",
        "for i in range(len(independentVar)):\n",
        "  vif_list = [vif(data[independentVar].values,index) for index in range(len(independentVar))]\n",
        "  mvif = max(vif_list)\n",
        "  print(\"mvif: \",mvif)\n",
        "  dropIndex = vif_list.index(mvif)\n",
        "  print(\"for independent variables\",independentVar[dropIndex])\n",
        "\n",
        "  if mvif>10:\n",
        "    print(\"deleting\",independentVar[dropIndex])\n",
        "    independentVar = independentVar.delete(dropIndex)\n",
        "print(\"final independent vars\",independentVar)\n"
      ],
      "execution_count": null,
      "outputs": [
        {
          "output_type": "stream",
          "text": [
            "mvif:  15.213540834822062\n",
            "for independent variables bedrooms\n",
            "deleting bedrooms\n",
            "mvif:  7.738793387948324\n",
            "for independent variables bathrms\n",
            "mvif:  7.738793387948324\n",
            "for independent variables bathrms\n",
            "mvif:  7.738793387948324\n",
            "for independent variables bathrms\n",
            "mvif:  7.738793387948324\n",
            "for independent variables bathrms\n",
            "mvif:  7.738793387948324\n",
            "for independent variables bathrms\n",
            "mvif:  7.738793387948324\n",
            "for independent variables bathrms\n",
            "mvif:  7.738793387948324\n",
            "for independent variables bathrms\n",
            "mvif:  7.738793387948324\n",
            "for independent variables bathrms\n",
            "mvif:  7.738793387948324\n",
            "for independent variables bathrms\n",
            "mvif:  7.738793387948324\n",
            "for independent variables bathrms\n",
            "final independent vars Index(['lotsize', 'bathrms', 'stories', 'driveway', 'recroom', 'fullbase',\n",
            "       'gashw', 'airco', 'garagepl', 'prefarea'],\n",
            "      dtype='object')\n"
          ],
          "name": "stdout"
        }
      ]
    },
    {
      "cell_type": "code",
      "metadata": {
        "id": "k1KQiSNAplOx",
        "colab_type": "code",
        "colab": {
          "base_uri": "https://localhost:8080/",
          "height": 646
        },
        "outputId": "a187ccad-047b-42c9-a620-4bb86de20144"
      },
      "source": [
        "y = data[\"price\"]\n",
        "x = data[independentVar]\n",
        "model = sm.OLS(y,x)\n",
        "model = model.fit()\n",
        "model.summary()"
      ],
      "execution_count": null,
      "outputs": [
        {
          "output_type": "execute_result",
          "data": {
            "text/html": [
              "<table class=\"simpletable\">\n",
              "<caption>OLS Regression Results</caption>\n",
              "<tr>\n",
              "  <th>Dep. Variable:</th>          <td>price</td>      <th>  R-squared (uncentered):</th>      <td>   0.956</td> \n",
              "</tr>\n",
              "<tr>\n",
              "  <th>Model:</th>                   <td>OLS</td>       <th>  Adj. R-squared (uncentered):</th> <td>   0.955</td> \n",
              "</tr>\n",
              "<tr>\n",
              "  <th>Method:</th>             <td>Least Squares</td>  <th>  F-statistic:       </th>          <td>   1172.</td> \n",
              "</tr>\n",
              "<tr>\n",
              "  <th>Date:</th>             <td>Fri, 26 Jun 2020</td> <th>  Prob (F-statistic):</th>           <td>  0.00</td>  \n",
              "</tr>\n",
              "<tr>\n",
              "  <th>Time:</th>                 <td>10:20:01</td>     <th>  Log-Likelihood:    </th>          <td> -6035.7</td> \n",
              "</tr>\n",
              "<tr>\n",
              "  <th>No. Observations:</th>      <td>   546</td>      <th>  AIC:               </th>          <td>1.209e+04</td>\n",
              "</tr>\n",
              "<tr>\n",
              "  <th>Df Residuals:</th>          <td>   536</td>      <th>  BIC:               </th>          <td>1.213e+04</td>\n",
              "</tr>\n",
              "<tr>\n",
              "  <th>Df Model:</th>              <td>    10</td>      <th>                     </th>              <td> </td>    \n",
              "</tr>\n",
              "<tr>\n",
              "  <th>Covariance Type:</th>      <td>nonrobust</td>    <th>                     </th>              <td> </td>    \n",
              "</tr>\n",
              "</table>\n",
              "<table class=\"simpletable\">\n",
              "<tr>\n",
              "      <td></td>        <th>coef</th>     <th>std err</th>      <th>t</th>      <th>P>|t|</th>  <th>[0.025</th>    <th>0.975]</th>  \n",
              "</tr>\n",
              "<tr>\n",
              "  <th>lotsize</th>  <td>    3.5725</td> <td>    0.325</td> <td>   11.001</td> <td> 0.000</td> <td>    2.935</td> <td>    4.210</td>\n",
              "</tr>\n",
              "<tr>\n",
              "  <th>bathrms</th>  <td> 1.482e+04</td> <td> 1331.794</td> <td>   11.127</td> <td> 0.000</td> <td> 1.22e+04</td> <td> 1.74e+04</td>\n",
              "</tr>\n",
              "<tr>\n",
              "  <th>stories</th>  <td> 7079.3352</td> <td>  822.349</td> <td>    8.609</td> <td> 0.000</td> <td> 5463.914</td> <td> 8694.756</td>\n",
              "</tr>\n",
              "<tr>\n",
              "  <th>driveway</th> <td> 6097.9741</td> <td> 1826.098</td> <td>    3.339</td> <td> 0.001</td> <td> 2510.788</td> <td> 9685.160</td>\n",
              "</tr>\n",
              "<tr>\n",
              "  <th>recroom</th>  <td> 4474.0007</td> <td> 1892.393</td> <td>    2.364</td> <td> 0.018</td> <td>  756.584</td> <td> 8191.417</td>\n",
              "</tr>\n",
              "<tr>\n",
              "  <th>fullbase</th> <td> 5788.5832</td> <td> 1540.712</td> <td>    3.757</td> <td> 0.000</td> <td> 2762.009</td> <td> 8815.157</td>\n",
              "</tr>\n",
              "<tr>\n",
              "  <th>gashw</th>    <td> 1.294e+04</td> <td> 3220.058</td> <td>    4.020</td> <td> 0.000</td> <td> 6619.038</td> <td> 1.93e+04</td>\n",
              "</tr>\n",
              "<tr>\n",
              "  <th>airco</th>    <td> 1.264e+04</td> <td> 1545.505</td> <td>    8.178</td> <td> 0.000</td> <td> 9603.420</td> <td> 1.57e+04</td>\n",
              "</tr>\n",
              "<tr>\n",
              "  <th>garagepl</th> <td> 4372.5314</td> <td>  833.623</td> <td>    5.245</td> <td> 0.000</td> <td> 2734.962</td> <td> 6010.101</td>\n",
              "</tr>\n",
              "<tr>\n",
              "  <th>prefarea</th> <td> 9463.4765</td> <td> 1661.216</td> <td>    5.697</td> <td> 0.000</td> <td> 6200.185</td> <td> 1.27e+04</td>\n",
              "</tr>\n",
              "</table>\n",
              "<table class=\"simpletable\">\n",
              "<tr>\n",
              "  <th>Omnibus:</th>       <td>99.771</td> <th>  Durbin-Watson:     </th> <td>   1.601</td>\n",
              "</tr>\n",
              "<tr>\n",
              "  <th>Prob(Omnibus):</th> <td> 0.000</td> <th>  Jarque-Bera (JB):  </th> <td> 273.686</td>\n",
              "</tr>\n",
              "<tr>\n",
              "  <th>Skew:</th>          <td> 0.896</td> <th>  Prob(JB):          </th> <td>3.71e-60</td>\n",
              "</tr>\n",
              "<tr>\n",
              "  <th>Kurtosis:</th>      <td> 5.969</td> <th>  Cond. No.          </th> <td>2.74e+04</td>\n",
              "</tr>\n",
              "</table><br/><br/>Warnings:<br/>[1] Standard Errors assume that the covariance matrix of the errors is correctly specified.<br/>[2] The condition number is large, 2.74e+04. This might indicate that there are<br/>strong multicollinearity or other numerical problems."
            ],
            "text/plain": [
              "<class 'statsmodels.iolib.summary.Summary'>\n",
              "\"\"\"\n",
              "                                 OLS Regression Results                                \n",
              "=======================================================================================\n",
              "Dep. Variable:                  price   R-squared (uncentered):                   0.956\n",
              "Model:                            OLS   Adj. R-squared (uncentered):              0.955\n",
              "Method:                 Least Squares   F-statistic:                              1172.\n",
              "Date:                Fri, 26 Jun 2020   Prob (F-statistic):                        0.00\n",
              "Time:                        10:20:01   Log-Likelihood:                         -6035.7\n",
              "No. Observations:                 546   AIC:                                  1.209e+04\n",
              "Df Residuals:                     536   BIC:                                  1.213e+04\n",
              "Df Model:                          10                                                  \n",
              "Covariance Type:            nonrobust                                                  \n",
              "==============================================================================\n",
              "                 coef    std err          t      P>|t|      [0.025      0.975]\n",
              "------------------------------------------------------------------------------\n",
              "lotsize        3.5725      0.325     11.001      0.000       2.935       4.210\n",
              "bathrms     1.482e+04   1331.794     11.127      0.000    1.22e+04    1.74e+04\n",
              "stories     7079.3352    822.349      8.609      0.000    5463.914    8694.756\n",
              "driveway    6097.9741   1826.098      3.339      0.001    2510.788    9685.160\n",
              "recroom     4474.0007   1892.393      2.364      0.018     756.584    8191.417\n",
              "fullbase    5788.5832   1540.712      3.757      0.000    2762.009    8815.157\n",
              "gashw       1.294e+04   3220.058      4.020      0.000    6619.038    1.93e+04\n",
              "airco       1.264e+04   1545.505      8.178      0.000    9603.420    1.57e+04\n",
              "garagepl    4372.5314    833.623      5.245      0.000    2734.962    6010.101\n",
              "prefarea    9463.4765   1661.216      5.697      0.000    6200.185    1.27e+04\n",
              "==============================================================================\n",
              "Omnibus:                       99.771   Durbin-Watson:                   1.601\n",
              "Prob(Omnibus):                  0.000   Jarque-Bera (JB):              273.686\n",
              "Skew:                           0.896   Prob(JB):                     3.71e-60\n",
              "Kurtosis:                       5.969   Cond. No.                     2.74e+04\n",
              "==============================================================================\n",
              "\n",
              "Warnings:\n",
              "[1] Standard Errors assume that the covariance matrix of the errors is correctly specified.\n",
              "[2] The condition number is large, 2.74e+04. This might indicate that there are\n",
              "strong multicollinearity or other numerical problems.\n",
              "\"\"\""
            ]
          },
          "metadata": {
            "tags": []
          },
          "execution_count": 54
        }
      ]
    },
    {
      "cell_type": "code",
      "metadata": {
        "id": "WFtnrdt76JcN",
        "colab_type": "code",
        "colab": {
          "base_uri": "https://localhost:8080/",
          "height": 189
        },
        "outputId": "03394809-d0e3-40ac-a18b-2944641d02c4"
      },
      "source": [
        "user_input = {}\n",
        "for var in independentVar:\n",
        "  temp = input(\"Enter\"+var+\":\")\n",
        "  user_input[var] = temp\n",
        "user_df = pd.DataFrame(data = user_input, index=[0], columns = independentVar)\n",
        "import sklearn.linear_model as lm\n",
        "lr = lm.LinearRegression()\n",
        "lr.fit(x,y)\n",
        "price = lr.predict(user_df)\n",
        "print(\"House Price is USD\", int(price[0]))"
      ],
      "execution_count": null,
      "outputs": [
        {
          "output_type": "stream",
          "text": [
            "Enterlotsize:2000\n",
            "Enterbathrms:3\n",
            "Enterstories:2\n",
            "Enterdriveway:1\n",
            "Enterrecroom:0\n",
            "Enterfullbase:1\n",
            "Entergashw:0\n",
            "Enterairco:0\n",
            "Entergaragepl:1\n"
          ],
          "name": "stdout"
        }
      ]
    },
    {
      "cell_type": "code",
      "metadata": {
        "id": "Mqadq-WUARNc",
        "colab_type": "code",
        "colab": {}
      },
      "source": [
        ""
      ],
      "execution_count": null,
      "outputs": []
    }
  ]
}